{
 "cells": [
  {
   "cell_type": "code",
   "execution_count": 38,
   "id": "4ae26452-dbb3-43c2-abfc-996341f9756e",
   "metadata": {},
   "outputs": [],
   "source": [
    "from pathlib import Path\n",
    "import pandas as pd"
   ]
  },
  {
   "cell_type": "code",
   "execution_count": 41,
   "id": "a8f899f6-6704-4fb0-8913-40a2f171954c",
   "metadata": {},
   "outputs": [],
   "source": [
    "# Set the path\n",
    "csv_file = Path('./Resources/budget_data.csv')\n",
    "# Read the csv file \n",
    "csv_data = pd.read_csv(csv_file)"
   ]
  },
  {
   "cell_type": "code",
   "execution_count": 42,
   "id": "28573f50-578a-478d-ab46-dedb7d5f1434",
   "metadata": {},
   "outputs": [
    {
     "name": "stdout",
     "output_type": "stream",
     "text": [
      "Financial Analysis\n",
      "---------------------------\n",
      "Total Months: 86\n",
      "Total: $38382578\n",
      "Average Change: $-2315.12\n",
      "Greatest Increase in Profits: Feb-2012 ($1926159)\n",
      "Greatest Decrease in Profits: Sep-2013 ($-2196167)\n"
     ]
    }
   ],
   "source": [
    "# Initialize variables\n",
    "count = 0\n",
    "total = 0\n",
    "previous_value = 0\n",
    "total_diff = 0\n",
    "increase = 0\n",
    "increase_date = \"\"\n",
    "decrease = 0\n",
    "decrease_date = \"\"\n",
    "\n",
    "# Loop through each row\n",
    "for index, row in csv_data.iterrows():\n",
    "    #total number of months\n",
    "    count += 1\n",
    "    \n",
    "    # Add the total\n",
    "    total += row[\"Profit/Losses\"]\n",
    "    \n",
    "    # Calculate the difference in Profit/Loss since the previous row\n",
    "    if previous_value != 0:\n",
    "        diff = row[\"Profit/Losses\"] - previous_value\n",
    "        total_diff += diff\n",
    "        \n",
    "        # Check if this is the greatest increase so far\n",
    "        if increase == 0 or diff > increase:\n",
    "            increase = diff\n",
    "            increase_date = row[\"Date\"]\n",
    "            \n",
    "        # Check if this is the greatest decrease so far\n",
    "        elif decrease == 0 or diff < decrease:\n",
    "            decrease = diff\n",
    "            decrease_date = row[\"Date\"]\n",
    "    previous_value = row[\"Profit/Losses\"]\n",
    "\n",
    "# Calculate the average change in Profit/Loss over the entire period\n",
    "average= round(total_diff / (count - 1), 2)\n",
    "\n",
    "# Print results\n",
    "print(\"Financial Analysis\")\n",
    "print(\"---------------------------\")\n",
    "print(f\"Total Months: {count}\")\n",
    "print(f\"Total: ${total}\")\n",
    "print(f\"Average Change: ${average}\")\n",
    "print(f\"Greatest Increase in Profits: {increase_date} (${increase})\")\n",
    "print(f\"Greatest Decrease in Profits: {decrease_date} (${decrease})\")"
   ]
  },
  {
   "cell_type": "code",
   "execution_count": null,
   "id": "cd83e10f-029b-4978-93c3-929f06321257",
   "metadata": {},
   "outputs": [],
   "source": []
  },
  {
   "cell_type": "code",
   "execution_count": null,
   "id": "beaad59f-0857-4eff-9cc2-41e67088c2b0",
   "metadata": {},
   "outputs": [],
   "source": []
  }
 ],
 "metadata": {
  "kernelspec": {
   "display_name": "Python 3 (ipykernel)",
   "language": "python",
   "name": "python3"
  },
  "language_info": {
   "codemirror_mode": {
    "name": "ipython",
    "version": 3
   },
   "file_extension": ".py",
   "mimetype": "text/x-python",
   "name": "python",
   "nbconvert_exporter": "python",
   "pygments_lexer": "ipython3",
   "version": "3.7.13"
  }
 },
 "nbformat": 4,
 "nbformat_minor": 5
}
