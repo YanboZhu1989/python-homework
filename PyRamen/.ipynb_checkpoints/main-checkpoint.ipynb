{
 "cells": [
  {
   "cell_type": "code",
   "execution_count": 11,
   "id": "a9e09e81-d671-49cb-99c1-2822df90e13c",
   "metadata": {},
   "outputs": [],
   "source": [
    "#Read the Data\n",
    "\n",
    "from pathlib import Path\n",
    "import csv"
   ]
  },
  {
   "cell_type": "code",
   "execution_count": 12,
   "id": "2d98b5ba-cf74-4708-bc29-96c53126ece5",
   "metadata": {},
   "outputs": [],
   "source": [
    "#Use a with statement and open the menu_data.csv by using its file path.\n",
    "menu_csv_path = Path(\"./Resources/menu_data.csv\")\n",
    "\n",
    "menu = []\n",
    "\n",
    "with open(menu_csv_path, 'r') as menu_csv_file:\n",
    "    menu_csv_reader = csv.reader(menu_csv_file, delimiter = ',')\n",
    "    \n",
    "    #Use the next function to skip the header\n",
    "    next(menu_csv_reader)\n",
    "    \n",
    "    #Loop over the rest of the rows and append every row to the menu list object\n",
    "    for row in menu_csv_reader:\n",
    "        menu.append(row)"
   ]
  },
  {
   "cell_type": "code",
   "execution_count": 13,
   "id": "30c51ca4-5bd4-450d-84fa-260cc739e867",
   "metadata": {},
   "outputs": [],
   "source": [
    "#do the same for sales_csv\n",
    "sales_csv_path = Path(\"./Resources/sales_data.csv\")\n",
    "\n",
    "sales = []\n",
    "\n",
    "with open(sales_csv_path, 'r') as sales_csv_file:\n",
    "    sales_csv_reader = csv.reader(sales_csv_file, delimiter = ',')\n",
    "    \n",
    "    next(sales_csv_reader)\n",
    "    \n",
    "    for row in sales_csv_reader:\n",
    "        sales.append(row)"
   ]
  },
  {
   "cell_type": "code",
   "execution_count": 15,
   "id": "87eafbd7-5fb0-4146-81f9-b41288330f24",
   "metadata": {},
   "outputs": [],
   "source": [
    "#Manipulate the Data\n",
    "\n",
    "#Initialize an empty report dictionary\n",
    "report = {}\n",
    "\n",
    "# loop through every row in the sales list object, set up new variables\n",
    "for sale in sales:\n",
    "    quantity = int(sale[3])\n",
    "    sales_item = sale[4]\n",
    "    \n",
    "    #Perform a quick check if the sales_item is already included in the report\n",
    "    if sales_item not in report:\n",
    "\n",
    "        # If not, initialize the key-value pairs for the particular sales_item in the report\n",
    "        report[sales_item] = {\n",
    "            \"01-count\": 0,\n",
    "            \"02-revenue\": 0,\n",
    "            \"03-cogs\": 0,\n",
    "            \"04-profit\": 0,\n",
    "        }\n",
    "        \n",
    "    #Create a nested loop by looping through every record in menu and set up new variables    \n",
    "    for entry in menu:\n",
    "        item = entry[0]\n",
    "        price = float(entry[3])\n",
    "        cost = int(entry[4])\n",
    "        \n",
    "        #If the sales_item in sales is equal to the item in menu, capture the quantity from the sales data and the price and cost from the menu data to calculate the profit for each item.\n",
    "        if sales_item == item:\n",
    "            profit = price - cost\n",
    "            \n",
    "            #Cumulatively add the values to the corresponding metrics in the report\n",
    "            report[sales_item][\"01-count\"] += quantity\n",
    "            report[sales_item][\"02-revenue\"] += price * quantity\n",
    "            report[sales_item][\"03-cogs\"] += cost * quantity\n",
    "            report[sales_item][\"04-profit\"] += profit * quantity\n",
    "\n",
    "            # Break out of the loop since a match for the sales_item is found\n",
    "            break\n",
    "            \n",
    "    else:\n",
    "        print(f\"{sales_item} does not equal {item}! NO MATCH!\")\n",
    "            \n",
    "\n",
    "#Write out the contents of the report dictionary to a text file.\n",
    "with open(\"report.txt\", 'w') as output:\n",
    "    for item, value in report.items():\n",
    "        output.write(f\"{item}{value}\\n\")"
   ]
  },
  {
   "cell_type": "code",
   "execution_count": null,
   "id": "f1f2086e-2303-4496-b1a6-a14e30207ca1",
   "metadata": {},
   "outputs": [],
   "source": []
  },
  {
   "cell_type": "code",
   "execution_count": null,
   "id": "cbe7dc5b-d8f9-49be-84bc-3b69d15ea5f3",
   "metadata": {},
   "outputs": [],
   "source": []
  }
 ],
 "metadata": {
  "kernelspec": {
   "display_name": "Python 3 (ipykernel)",
   "language": "python",
   "name": "python3"
  },
  "language_info": {
   "codemirror_mode": {
    "name": "ipython",
    "version": 3
   },
   "file_extension": ".py",
   "mimetype": "text/x-python",
   "name": "python",
   "nbconvert_exporter": "python",
   "pygments_lexer": "ipython3",
   "version": "3.7.13"
  }
 },
 "nbformat": 4,
 "nbformat_minor": 5
}
